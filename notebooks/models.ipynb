{
 "cells": [
  {
   "cell_type": "markdown",
   "metadata": {},
   "source": [
    "# Imports"
   ]
  },
  {
   "cell_type": "code",
   "execution_count": 1,
   "metadata": {},
   "outputs": [],
   "source": [
    "import numpy as np\n",
    "import pandas as pd\n",
    "import matplotlib.pyplot as plt\n",
    "import torch\n",
    "import torch.utils.data as data_utils\n",
    "import torch.optim as optim\n",
    "import seaborn as sns"
   ]
  },
  {
   "cell_type": "markdown",
   "metadata": {},
   "source": [
    "## Train and test split"
   ]
  },
  {
   "cell_type": "code",
   "execution_count": 2,
   "metadata": {},
   "outputs": [
    {
     "name": "stderr",
     "output_type": "stream",
     "text": [
      "<ipython-input-2-b506566f99d0>:10: SettingWithCopyWarning: \n",
      "A value is trying to be set on a copy of a slice from a DataFrame.\n",
      "Try using .loc[row_indexer,col_indexer] = value instead\n",
      "\n",
      "See the caveats in the documentation: https://pandas.pydata.org/pandas-docs/stable/user_guide/indexing.html#returning-a-view-versus-a-copy\n",
      "  train['overall'] = train['overall'].astype(np.float32)\n"
     ]
    }
   ],
   "source": [
    "final = pd.read_excel(\"../data/processed/final.xlsx\")\n",
    "final = final[final.columns[2:]]\n",
    "#divide data into train and test\n",
    "\n",
    "train_ind = int(len(final)*0.8)\n",
    "train = final[:train_ind]\n",
    "test = final[train_ind:]\n",
    "\n",
    "#train = train[train.columns[2:]]\n",
    "train['overall'] = train['overall'].astype(np.float32)"
   ]
  },
  {
   "cell_type": "markdown",
   "metadata": {},
   "source": [
    "# Linear Model"
   ]
  },
  {
   "cell_type": "code",
   "execution_count": 3,
   "metadata": {},
   "outputs": [
    {
     "name": "stdout",
     "output_type": "stream",
     "text": [
      "Requirement already satisfied: scikit-learn in /Users/saichandra/opt/anaconda3/lib/python3.8/site-packages (1.0.1)\n",
      "Requirement already satisfied: scipy>=1.1.0 in /Users/saichandra/opt/anaconda3/lib/python3.8/site-packages (from scikit-learn) (1.6.2)\n",
      "Requirement already satisfied: joblib>=0.11 in /Users/saichandra/opt/anaconda3/lib/python3.8/site-packages (from scikit-learn) (1.0.1)\n",
      "Requirement already satisfied: numpy>=1.14.6 in /Users/saichandra/opt/anaconda3/lib/python3.8/site-packages (from scikit-learn) (1.20.1)\n",
      "Requirement already satisfied: threadpoolctl>=2.0.0 in /Users/saichandra/opt/anaconda3/lib/python3.8/site-packages (from scikit-learn) (2.1.0)\n",
      "Note: you may need to restart the kernel to use updated packages.\n"
     ]
    }
   ],
   "source": [
    "pip install scikit-learn"
   ]
  },
  {
   "cell_type": "code",
   "execution_count": 55,
   "metadata": {},
   "outputs": [],
   "source": [
    "from sklearn.linear_model import LinearRegression"
   ]
  },
  {
   "cell_type": "code",
   "execution_count": 56,
   "metadata": {},
   "outputs": [],
   "source": [
    "x = train.drop('overall', axis = 1).values\n",
    "y = train['overall'].values\n",
    "\n",
    "\n",
    "n = x.shape[1]\n",
    "output_features = 1\n",
    "learning_rate = 0.001\n",
    "epochs = 10"
   ]
  },
  {
   "cell_type": "code",
   "execution_count": 57,
   "metadata": {},
   "outputs": [],
   "source": [
    "reg = LinearRegression().fit(x, y)"
   ]
  },
  {
   "cell_type": "code",
   "execution_count": 58,
   "metadata": {},
   "outputs": [],
   "source": [
    "x_test = test.drop('overall', axis = 1).values\n",
    "y_test = test['overall'].values"
   ]
  },
  {
   "cell_type": "code",
   "execution_count": 59,
   "metadata": {},
   "outputs": [],
   "source": [
    "x_test = pd.DataFrame(x_test)\n",
    "x_test = x_test.dropna()\n",
    "\n",
    "y_test = pd.DataFrame(y_test)\n",
    "y_test = y_test.dropna()"
   ]
  },
  {
   "cell_type": "code",
   "execution_count": 60,
   "metadata": {},
   "outputs": [],
   "source": [
    "x_test = x_test.values\n",
    "y_test = y_test.values"
   ]
  },
  {
   "cell_type": "code",
   "execution_count": 61,
   "metadata": {},
   "outputs": [],
   "source": [
    "y_pred = reg.predict(x_test)"
   ]
  },
  {
   "cell_type": "code",
   "execution_count": 71,
   "metadata": {},
   "outputs": [
    {
     "data": {
      "image/png": "[encoded data removed]",
      "text/plain": [
       "<Figure size 1080x288 with 1 Axes>"
      ]
     },
     "metadata": {},
     "output_type": "display_data"
    },
    {
     "name": "stdout",
     "output_type": "stream",
     "text": [
      "5.683286342921283 32.299743655635574 5.442575066150674 0.021275825007408346\n"
     ]
    }
   ],
   "source": [
    "from sklearn.metrics import mean_squared_error\n",
    "from sklearn.metrics import mean_squared_error\n",
    "from sklearn.metrics import mean_absolute_error\n",
    "from sklearn.metrics import mean_absolute_percentage_error\n",
    "\n",
    "rmse = mean_squared_error(y_test, y_pred,squared=False)\n",
    "mse = mean_squared_error(y_test,y_pred)\n",
    "mae = mean_absolute_error(y_test, y_pred)\n",
    "mape = mean_absolute_percentage_error(y_test,y_pred)\n",
    "\n",
    "plt.plot(list(range(len(y_pred))),y_pred)\n",
    "plt.plot(list(range(len(y_test))),y_test)\n",
    "plt.show()\n",
    "\n",
    "print(rmse,mse,mae,mape)"
   ]
  },
  {
   "cell_type": "code",
   "execution_count": null,
   "metadata": {},
   "outputs": [],
   "source": [
    "df_final[['overall','prediction']].plot()"
   ]
  },
  {
   "cell_type": "markdown",
   "metadata": {},
   "source": [
    "# Time Series prediction"
   ]
  },
  {
   "cell_type": "code",
   "execution_count": 154,
   "metadata": {},
   "outputs": [],
   "source": [
    "from statsmodels.tsa.stattools import grangercausalitytests"
   ]
  },
  {
   "cell_type": "code",
   "execution_count": 73,
   "metadata": {},
   "outputs": [],
   "source": [
    "from statsmodels.tsa.stattools import grangercausalitytests\n",
    "maxlag=50\n",
    "test = 'ssr_chi2test'\n",
    "def grangers_causation_matrix(data, variables, test='ssr_chi2test', verbose=False):    \n",
    "    \"\"\"Check Granger Causality of all possible combinations of the Time series.\n",
    "    The rows are the response variable, columns are predictors. The values in the table \n",
    "    are the P-Values. P-Values lesser than the significance level (0.05), implies \n",
    "    the Null Hypothesis that the coefficients of the corresponding past values is \n",
    "    zero, that is, the X does not cause Y can be rejected.\n",
    "\n",
    "    data      : pandas dataframe containing the time series variables\n",
    "    variables : list containing names of the time series variables.\n",
    "    \"\"\"\n",
    "    df = pd.DataFrame(np.zeros((len(variables), len(variables))), columns=variables, index=variables)\n",
    "    for c in df.columns:\n",
    "        for r in df.index:\n",
    "            test_result = grangercausalitytests(data[[r, c]], maxlag=maxlag, verbose=False)\n",
    "            p_values = [round(test_result[i+1][0][test][1],4) for i in range(maxlag)]\n",
    "            if verbose: print(f'Y = {r}, X = {c}, P Values = {p_values}')\n",
    "            min_p_value = np.min(p_values)\n",
    "            df.loc[r, c] = min_p_value\n",
    "    df.columns = [var + '_x' for var in variables]\n",
    "    df.index = [var + '_y' for var in variables]\n",
    "    return df\n"
   ]
  },
  {
   "cell_type": "code",
   "execution_count": 74,
   "metadata": {},
   "outputs": [
    {
     "data": {
      "text/html": [
       "<div>\n",
       "<style scoped>\n",
       "    .dataframe tbody tr th:only-of-type {\n",
       "        vertical-align: middle;\n",
       "    }\n",
       "\n",
       "    .dataframe tbody tr th {\n",
       "        vertical-align: top;\n",
       "    }\n",
       "\n",
       "    .dataframe thead th {\n",
       "        text-align: right;\n",
       "    }\n",
       "</style>\n",
       "<table border=\"1\" class=\"dataframe\">\n",
       "  <thead>\n",
       "    <tr style=\"text-align: right;\">\n",
       "      <th></th>\n",
       "      <th>overall_x</th>\n",
       "      <th>housing_x</th>\n",
       "      <th>apparel_x</th>\n",
       "      <th>transportation_x</th>\n",
       "      <th>medical_x</th>\n",
       "      <th>food_x</th>\n",
       "      <th>other_goods_x</th>\n",
       "      <th>education_x</th>\n",
       "      <th>recreation_x</th>\n",
       "    </tr>\n",
       "  </thead>\n",
       "  <tbody>\n",
       "    <tr>\n",
       "      <th>overall_y</th>\n",
       "      <td>1.0000</td>\n",
       "      <td>0.0000</td>\n",
       "      <td>0.0000</td>\n",
       "      <td>0.0000</td>\n",
       "      <td>0.0000</td>\n",
       "      <td>0.0000</td>\n",
       "      <td>0.0009</td>\n",
       "      <td>0.0001</td>\n",
       "      <td>0.0000</td>\n",
       "    </tr>\n",
       "    <tr>\n",
       "      <th>housing_y</th>\n",
       "      <td>0.0000</td>\n",
       "      <td>1.0000</td>\n",
       "      <td>0.0000</td>\n",
       "      <td>0.0000</td>\n",
       "      <td>0.0000</td>\n",
       "      <td>0.0000</td>\n",
       "      <td>0.0000</td>\n",
       "      <td>0.0000</td>\n",
       "      <td>0.0000</td>\n",
       "    </tr>\n",
       "    <tr>\n",
       "      <th>apparel_y</th>\n",
       "      <td>0.0000</td>\n",
       "      <td>0.0000</td>\n",
       "      <td>1.0000</td>\n",
       "      <td>0.0000</td>\n",
       "      <td>0.0000</td>\n",
       "      <td>0.0000</td>\n",
       "      <td>0.0006</td>\n",
       "      <td>0.0057</td>\n",
       "      <td>0.0000</td>\n",
       "    </tr>\n",
       "    <tr>\n",
       "      <th>transportation_y</th>\n",
       "      <td>0.0000</td>\n",
       "      <td>0.0000</td>\n",
       "      <td>0.0751</td>\n",
       "      <td>1.0000</td>\n",
       "      <td>0.0000</td>\n",
       "      <td>0.0000</td>\n",
       "      <td>0.0262</td>\n",
       "      <td>0.0000</td>\n",
       "      <td>0.0000</td>\n",
       "    </tr>\n",
       "    <tr>\n",
       "      <th>medical_y</th>\n",
       "      <td>0.0030</td>\n",
       "      <td>0.0018</td>\n",
       "      <td>0.0000</td>\n",
       "      <td>0.0000</td>\n",
       "      <td>1.0000</td>\n",
       "      <td>0.0009</td>\n",
       "      <td>0.1885</td>\n",
       "      <td>0.0000</td>\n",
       "      <td>0.0000</td>\n",
       "    </tr>\n",
       "    <tr>\n",
       "      <th>food_y</th>\n",
       "      <td>0.0000</td>\n",
       "      <td>0.0000</td>\n",
       "      <td>0.0000</td>\n",
       "      <td>0.0000</td>\n",
       "      <td>0.0090</td>\n",
       "      <td>1.0000</td>\n",
       "      <td>0.0015</td>\n",
       "      <td>0.0000</td>\n",
       "      <td>0.0001</td>\n",
       "    </tr>\n",
       "    <tr>\n",
       "      <th>other_goods_y</th>\n",
       "      <td>0.0000</td>\n",
       "      <td>0.0000</td>\n",
       "      <td>0.0012</td>\n",
       "      <td>0.0000</td>\n",
       "      <td>0.0004</td>\n",
       "      <td>0.0000</td>\n",
       "      <td>1.0000</td>\n",
       "      <td>0.0111</td>\n",
       "      <td>0.0000</td>\n",
       "    </tr>\n",
       "    <tr>\n",
       "      <th>education_y</th>\n",
       "      <td>0.0000</td>\n",
       "      <td>0.0000</td>\n",
       "      <td>0.0000</td>\n",
       "      <td>0.0486</td>\n",
       "      <td>0.0000</td>\n",
       "      <td>0.0374</td>\n",
       "      <td>0.0000</td>\n",
       "      <td>1.0000</td>\n",
       "      <td>0.0615</td>\n",
       "    </tr>\n",
       "    <tr>\n",
       "      <th>recreation_y</th>\n",
       "      <td>0.0009</td>\n",
       "      <td>0.0000</td>\n",
       "      <td>0.0000</td>\n",
       "      <td>0.0001</td>\n",
       "      <td>0.0000</td>\n",
       "      <td>0.0000</td>\n",
       "      <td>0.0001</td>\n",
       "      <td>0.0000</td>\n",
       "      <td>1.0000</td>\n",
       "    </tr>\n",
       "  </tbody>\n",
       "</table>\n",
       "</div>"
      ],
      "text/plain": [
       "                  overall_x  housing_x  apparel_x  transportation_x  \\\n",
       "overall_y            1.0000     0.0000     0.0000            0.0000   \n",
       "housing_y            0.0000     1.0000     0.0000            0.0000   \n",
       "apparel_y            0.0000     0.0000     1.0000            0.0000   \n",
       "transportation_y     0.0000     0.0000     0.0751            1.0000   \n",
       "medical_y            0.0030     0.0018     0.0000            0.0000   \n",
       "food_y               0.0000     0.0000     0.0000            0.0000   \n",
       "other_goods_y        0.0000     0.0000     0.0012            0.0000   \n",
       "education_y          0.0000     0.0000     0.0000            0.0486   \n",
       "recreation_y         0.0009     0.0000     0.0000            0.0001   \n",
       "\n",
       "                  medical_x  food_x  other_goods_x  education_x  recreation_x  \n",
       "overall_y            0.0000  0.0000         0.0009       0.0001        0.0000  \n",
       "housing_y            0.0000  0.0000         0.0000       0.0000        0.0000  \n",
       "apparel_y            0.0000  0.0000         0.0006       0.0057        0.0000  \n",
       "transportation_y     0.0000  0.0000         0.0262       0.0000        0.0000  \n",
       "medical_y            1.0000  0.0009         0.1885       0.0000        0.0000  \n",
       "food_y               0.0090  1.0000         0.0015       0.0000        0.0001  \n",
       "other_goods_y        0.0004  0.0000         1.0000       0.0111        0.0000  \n",
       "education_y          0.0000  0.0374         0.0000       1.0000        0.0615  \n",
       "recreation_y         0.0000  0.0000         0.0001       0.0000        1.0000  "
      ]
     },
     "execution_count": 74,
     "metadata": {},
     "output_type": "execute_result"
    }
   ],
   "source": [
    "grangers_causation_matrix(train, variables = train.columns)"
   ]
  },
  {
   "cell_type": "code",
   "execution_count": 157,
   "metadata": {},
   "outputs": [
    {
     "name": "stdout",
     "output_type": "stream",
     "text": [
      "Name   ::  Test Stat > C(95%)    =>   Signif  \n",
      " ----------------------------------------\n",
      "overall ::  229.91    > 179.5199  =>   True\n",
      "housing ::  154.04    > 143.6691  =>   True\n",
      "apparel ::  104.45    > 111.7797  =>   False\n",
      "transportation ::  67.55     > 83.9383   =>   False\n",
      "medical ::  44.34     > 60.0627   =>   False\n",
      "food   ::  25.3      > 40.1749   =>   False\n",
      "other_goods ::  10.87     > 24.2761   =>   False\n",
      "education ::  3.93      > 12.3212   =>   False\n",
      "recreation ::  0.1       > 4.1296    =>   False\n"
     ]
    }
   ],
   "source": [
    "from statsmodels.tsa.vector_ar.vecm import coint_johansen\n",
    "\n",
    "def cointegration_test(df, alpha=0.05): \n",
    "    \"\"\"Perform Johanson's Cointegration Test and Report Summary\"\"\"\n",
    "    out = coint_johansen(df,-1,5)\n",
    "    d = {'0.90':0, '0.95':1, '0.99':2}\n",
    "    traces = out.lr1\n",
    "    cvts = out.cvt[:, d[str(1-alpha)]]\n",
    "    def adjust(val, length= 6): return str(val).ljust(length)\n",
    "\n",
    "    # Summary\n",
    "    print('Name   ::  Test Stat > C(95%)    =>   Signif  \\n', '--'*20)\n",
    "    for col, trace, cvt in zip(df.columns, traces, cvts):\n",
    "        print(adjust(col), ':: ', adjust(round(trace,2), 9), \">\", adjust(cvt, 8), ' =>  ' , trace > cvt)\n",
    "\n",
    "cointegration_test(train)"
   ]
  },
  {
   "cell_type": "code",
   "execution_count": 158,
   "metadata": {},
   "outputs": [],
   "source": [
    "# Import Statsmodels\n",
    "from statsmodels.tsa.api import VAR\n",
    "from statsmodels.tsa.stattools import adfuller\n",
    "from statsmodels.tools.eval_measures import rmse, aic"
   ]
  },
  {
   "cell_type": "code",
   "execution_count": 159,
   "metadata": {},
   "outputs": [],
   "source": [
    "def adfuller_test(series, signif=0.05, name='', verbose=False):\n",
    "    \"\"\"Perform ADFuller to test for Stationarity of given series and print report\"\"\"\n",
    "    r = adfuller(series, autolag='AIC')\n",
    "    output = {'test_statistic':round(r[0], 4), 'pvalue':round(r[1], 4), 'n_lags':round(r[2], 4), 'n_obs':r[3]}\n",
    "    p_value = output['pvalue'] \n",
    "    def adjust(val, length= 6): return str(val).ljust(length)\n",
    "\n",
    "    # Print Summary\n",
    "    print(f'    Augmented Dickey-Fuller Test on \"{name}\"', \"\\n   \", '-'*47)\n",
    "    print(f' Null Hypothesis: Data has unit root. Non-Stationary.')\n",
    "    print(f' Significance Level    = {signif}')\n",
    "    print(f' Test Statistic        = {output[\"test_statistic\"]}')\n",
    "    print(f' No. Lags Chosen       = {output[\"n_lags\"]}')\n",
    "\n",
    "    for key,val in r[4].items():\n",
    "        print(f' Critical value {adjust(key)} = {round(val, 3)}')\n",
    "\n",
    "    if p_value <= signif:\n",
    "        print(f\" => P-Value = {p_value}. Rejecting Null Hypothesis.\")\n",
    "        print(f\" => Series is Stationary.\")\n",
    "    else:\n",
    "        print(f\" => P-Value = {p_value}. Weak evidence to reject the Null Hypothesis.\")\n",
    "        print(f\" => Series is Non-Stationary.\")   "
   ]
  },
  {
   "cell_type": "code",
   "execution_count": 160,
   "metadata": {},
   "outputs": [
    {
     "name": "stdout",
     "output_type": "stream",
     "text": [
      "    Augmented Dickey-Fuller Test on \"overall\" \n",
      "    -----------------------------------------------\n",
      " Null Hypothesis: Data has unit root. Non-Stationary.\n",
      " Significance Level    = 0.05\n",
      " Test Statistic        = -0.9105\n",
      " No. Lags Chosen       = 11\n",
      " Critical value 1%     = -3.457\n",
      " Critical value 5%     = -2.873\n",
      " Critical value 10%    = -2.573\n",
      " => P-Value = 0.7845. Weak evidence to reject the Null Hypothesis.\n",
      " => Series is Non-Stationary.\n",
      "\n",
      "\n",
      "    Augmented Dickey-Fuller Test on \"housing\" \n",
      "    -----------------------------------------------\n",
      " Null Hypothesis: Data has unit root. Non-Stationary.\n",
      " Significance Level    = 0.05\n",
      " Test Statistic        = -0.2096\n",
      " No. Lags Chosen       = 14\n",
      " Critical value 1%     = -3.457\n",
      " Critical value 5%     = -2.873\n",
      " Critical value 10%    = -2.573\n",
      " => P-Value = 0.9374. Weak evidence to reject the Null Hypothesis.\n",
      " => Series is Non-Stationary.\n",
      "\n",
      "\n",
      "    Augmented Dickey-Fuller Test on \"apparel\" \n",
      "    -----------------------------------------------\n",
      " Null Hypothesis: Data has unit root. Non-Stationary.\n",
      " Significance Level    = 0.05\n",
      " Test Statistic        = -1.7507\n",
      " No. Lags Chosen       = 12\n",
      " Critical value 1%     = -3.457\n",
      " Critical value 5%     = -2.873\n",
      " Critical value 10%    = -2.573\n",
      " => P-Value = 0.4052. Weak evidence to reject the Null Hypothesis.\n",
      " => Series is Non-Stationary.\n",
      "\n",
      "\n",
      "    Augmented Dickey-Fuller Test on \"transportation\" \n",
      "    -----------------------------------------------\n",
      " Null Hypothesis: Data has unit root. Non-Stationary.\n",
      " Significance Level    = 0.05\n",
      " Test Statistic        = -2.8552\n",
      " No. Lags Chosen       = 16\n",
      " Critical value 1%     = -3.458\n",
      " Critical value 5%     = -2.874\n",
      " Critical value 10%    = -2.573\n",
      " => P-Value = 0.0508. Weak evidence to reject the Null Hypothesis.\n",
      " => Series is Non-Stationary.\n",
      "\n",
      "\n",
      "    Augmented Dickey-Fuller Test on \"medical\" \n",
      "    -----------------------------------------------\n",
      " Null Hypothesis: Data has unit root. Non-Stationary.\n",
      " Significance Level    = 0.05\n",
      " Test Statistic        = -1.974\n",
      " No. Lags Chosen       = 14\n",
      " Critical value 1%     = -3.457\n",
      " Critical value 5%     = -2.873\n",
      " Critical value 10%    = -2.573\n",
      " => P-Value = 0.2981. Weak evidence to reject the Null Hypothesis.\n",
      " => Series is Non-Stationary.\n",
      "\n",
      "\n",
      "    Augmented Dickey-Fuller Test on \"food\" \n",
      "    -----------------------------------------------\n",
      " Null Hypothesis: Data has unit root. Non-Stationary.\n",
      " Significance Level    = 0.05\n",
      " Test Statistic        = -0.0391\n",
      " No. Lags Chosen       = 14\n",
      " Critical value 1%     = -3.457\n",
      " Critical value 5%     = -2.873\n",
      " Critical value 10%    = -2.573\n",
      " => P-Value = 0.9552. Weak evidence to reject the Null Hypothesis.\n",
      " => Series is Non-Stationary.\n",
      "\n",
      "\n",
      "    Augmented Dickey-Fuller Test on \"other_goods\" \n",
      "    -----------------------------------------------\n",
      " Null Hypothesis: Data has unit root. Non-Stationary.\n",
      " Significance Level    = 0.05\n",
      " Test Statistic        = -1.2534\n",
      " No. Lags Chosen       = 15\n",
      " Critical value 1%     = -3.458\n",
      " Critical value 5%     = -2.874\n",
      " Critical value 10%    = -2.573\n",
      " => P-Value = 0.6502. Weak evidence to reject the Null Hypothesis.\n",
      " => Series is Non-Stationary.\n",
      "\n",
      "\n",
      "    Augmented Dickey-Fuller Test on \"education\" \n",
      "    -----------------------------------------------\n",
      " Null Hypothesis: Data has unit root. Non-Stationary.\n",
      " Significance Level    = 0.05\n",
      " Test Statistic        = -0.0247\n",
      " No. Lags Chosen       = 12\n",
      " Critical value 1%     = -3.457\n",
      " Critical value 5%     = -2.873\n",
      " Critical value 10%    = -2.573\n",
      " => P-Value = 0.9564. Weak evidence to reject the Null Hypothesis.\n",
      " => Series is Non-Stationary.\n",
      "\n",
      "\n",
      "    Augmented Dickey-Fuller Test on \"recreation\" \n",
      "    -----------------------------------------------\n",
      " Null Hypothesis: Data has unit root. Non-Stationary.\n",
      " Significance Level    = 0.05\n",
      " Test Statistic        = -2.9819\n",
      " No. Lags Chosen       = 12\n",
      " Critical value 1%     = -3.457\n",
      " Critical value 5%     = -2.873\n",
      " Critical value 10%    = -2.573\n",
      " => P-Value = 0.0366. Rejecting Null Hypothesis.\n",
      " => Series is Stationary.\n",
      "\n",
      "\n"
     ]
    }
   ],
   "source": [
    "for name, column in train.iteritems():\n",
    "    adfuller_test(column, name=column.name)\n",
    "    print('\\n')"
   ]
  },
  {
   "cell_type": "markdown",
   "metadata": {},
   "source": [
    "# LSTM Model"
   ]
  },
  {
   "cell_type": "code",
   "execution_count": 34,
   "metadata": {},
   "outputs": [],
   "source": [
    "from sklearn.preprocessing import MinMaxScaler,StandardScaler\n",
    "from sklearn.model_selection import train_test_split\n",
    "from keras.preprocessing.sequence import TimeseriesGenerator\n",
    "import tensorflow as tf"
   ]
  },
  {
   "cell_type": "code",
   "execution_count": 35,
   "metadata": {},
   "outputs": [],
   "source": [
    "scaler = StandardScaler()\n",
    "data_scaled = scaler.fit_transform(train)"
   ]
  },
  {
   "cell_type": "code",
   "execution_count": 36,
   "metadata": {},
   "outputs": [
    {
     "data": {
      "text/html": [
       "<div>\n",
       "<style scoped>\n",
       "    .dataframe tbody tr th:only-of-type {\n",
       "        vertical-align: middle;\n",
       "    }\n",
       "\n",
       "    .dataframe tbody tr th {\n",
       "        vertical-align: top;\n",
       "    }\n",
       "\n",
       "    .dataframe thead th {\n",
       "        text-align: right;\n",
       "    }\n",
       "</style>\n",
       "<table border=\"1\" class=\"dataframe\">\n",
       "  <thead>\n",
       "    <tr style=\"text-align: right;\">\n",
       "      <th></th>\n",
       "      <th>0</th>\n",
       "      <th>1</th>\n",
       "      <th>2</th>\n",
       "      <th>3</th>\n",
       "      <th>4</th>\n",
       "      <th>5</th>\n",
       "      <th>6</th>\n",
       "      <th>7</th>\n",
       "      <th>8</th>\n",
       "    </tr>\n",
       "  </thead>\n",
       "  <tbody>\n",
       "    <tr>\n",
       "      <th>0</th>\n",
       "      <td>-1.659007</td>\n",
       "      <td>-1.721885</td>\n",
       "      <td>0.741837</td>\n",
       "      <td>0.428737</td>\n",
       "      <td>1.682723</td>\n",
       "      <td>-1.536882</td>\n",
       "      <td>-1.763277</td>\n",
       "      <td>0.633889</td>\n",
       "      <td>0.486940</td>\n",
       "    </tr>\n",
       "    <tr>\n",
       "      <th>1</th>\n",
       "      <td>-1.637739</td>\n",
       "      <td>-1.700905</td>\n",
       "      <td>1.041081</td>\n",
       "      <td>0.410847</td>\n",
       "      <td>1.682723</td>\n",
       "      <td>-1.540020</td>\n",
       "      <td>-1.746711</td>\n",
       "      <td>0.822924</td>\n",
       "      <td>0.486940</td>\n",
       "    </tr>\n",
       "    <tr>\n",
       "      <th>2</th>\n",
       "      <td>-1.620016</td>\n",
       "      <td>-1.686918</td>\n",
       "      <td>1.621966</td>\n",
       "      <td>0.446627</td>\n",
       "      <td>1.550334</td>\n",
       "      <td>-1.540020</td>\n",
       "      <td>-1.748217</td>\n",
       "      <td>0.728407</td>\n",
       "      <td>0.372807</td>\n",
       "    </tr>\n",
       "    <tr>\n",
       "      <th>3</th>\n",
       "      <td>-1.602292</td>\n",
       "      <td>-1.686918</td>\n",
       "      <td>1.692376</td>\n",
       "      <td>0.536077</td>\n",
       "      <td>1.285555</td>\n",
       "      <td>-1.508647</td>\n",
       "      <td>-1.743699</td>\n",
       "      <td>0.728407</td>\n",
       "      <td>0.829341</td>\n",
       "    </tr>\n",
       "    <tr>\n",
       "      <th>4</th>\n",
       "      <td>-1.591658</td>\n",
       "      <td>-1.679925</td>\n",
       "      <td>1.445940</td>\n",
       "      <td>0.661307</td>\n",
       "      <td>1.285555</td>\n",
       "      <td>-1.511784</td>\n",
       "      <td>-1.734663</td>\n",
       "      <td>0.539371</td>\n",
       "      <td>0.943474</td>\n",
       "    </tr>\n",
       "    <tr>\n",
       "      <th>...</th>\n",
       "      <td>...</td>\n",
       "      <td>...</td>\n",
       "      <td>...</td>\n",
       "      <td>...</td>\n",
       "      <td>...</td>\n",
       "      <td>...</td>\n",
       "      <td>...</td>\n",
       "      <td>...</td>\n",
       "      <td>...</td>\n",
       "    </tr>\n",
       "    <tr>\n",
       "      <th>254</th>\n",
       "      <td>1.454393</td>\n",
       "      <td>1.602967</td>\n",
       "      <td>0.394538</td>\n",
       "      <td>-1.074019</td>\n",
       "      <td>-0.435504</td>\n",
       "      <td>1.615367</td>\n",
       "      <td>1.514287</td>\n",
       "      <td>-1.918089</td>\n",
       "      <td>0.030406</td>\n",
       "    </tr>\n",
       "    <tr>\n",
       "      <th>255</th>\n",
       "      <td>1.494413</td>\n",
       "      <td>1.613632</td>\n",
       "      <td>0.454915</td>\n",
       "      <td>-0.769890</td>\n",
       "      <td>-0.832672</td>\n",
       "      <td>1.629014</td>\n",
       "      <td>1.519483</td>\n",
       "      <td>-2.012606</td>\n",
       "      <td>0.258673</td>\n",
       "    </tr>\n",
       "    <tr>\n",
       "      <th>256</th>\n",
       "      <td>1.528726</td>\n",
       "      <td>1.649334</td>\n",
       "      <td>0.452803</td>\n",
       "      <td>-1.020349</td>\n",
       "      <td>-0.700283</td>\n",
       "      <td>1.611665</td>\n",
       "      <td>1.533098</td>\n",
       "      <td>-2.012606</td>\n",
       "      <td>0.030406</td>\n",
       "    </tr>\n",
       "    <tr>\n",
       "      <th>257</th>\n",
       "      <td>1.556694</td>\n",
       "      <td>1.700700</td>\n",
       "      <td>0.050408</td>\n",
       "      <td>-1.002460</td>\n",
       "      <td>-0.170726</td>\n",
       "      <td>1.599807</td>\n",
       "      <td>1.548670</td>\n",
       "      <td>-2.012606</td>\n",
       "      <td>-0.083727</td>\n",
       "    </tr>\n",
       "    <tr>\n",
       "      <th>258</th>\n",
       "      <td>1.542870</td>\n",
       "      <td>1.723639</td>\n",
       "      <td>-0.379447</td>\n",
       "      <td>-1.217139</td>\n",
       "      <td>0.358831</td>\n",
       "      <td>1.602065</td>\n",
       "      <td>1.556561</td>\n",
       "      <td>-2.201642</td>\n",
       "      <td>-0.197861</td>\n",
       "    </tr>\n",
       "  </tbody>\n",
       "</table>\n",
       "<p>259 rows × 9 columns</p>\n",
       "</div>"
      ],
      "text/plain": [
       "            0         1         2         3         4         5         6  \\\n",
       "0   -1.659007 -1.721885  0.741837  0.428737  1.682723 -1.536882 -1.763277   \n",
       "1   -1.637739 -1.700905  1.041081  0.410847  1.682723 -1.540020 -1.746711   \n",
       "2   -1.620016 -1.686918  1.621966  0.446627  1.550334 -1.540020 -1.748217   \n",
       "3   -1.602292 -1.686918  1.692376  0.536077  1.285555 -1.508647 -1.743699   \n",
       "4   -1.591658 -1.679925  1.445940  0.661307  1.285555 -1.511784 -1.734663   \n",
       "..        ...       ...       ...       ...       ...       ...       ...   \n",
       "254  1.454393  1.602967  0.394538 -1.074019 -0.435504  1.615367  1.514287   \n",
       "255  1.494413  1.613632  0.454915 -0.769890 -0.832672  1.629014  1.519483   \n",
       "256  1.528726  1.649334  0.452803 -1.020349 -0.700283  1.611665  1.533098   \n",
       "257  1.556694  1.700700  0.050408 -1.002460 -0.170726  1.599807  1.548670   \n",
       "258  1.542870  1.723639 -0.379447 -1.217139  0.358831  1.602065  1.556561   \n",
       "\n",
       "            7         8  \n",
       "0    0.633889  0.486940  \n",
       "1    0.822924  0.486940  \n",
       "2    0.728407  0.372807  \n",
       "3    0.728407  0.829341  \n",
       "4    0.539371  0.943474  \n",
       "..        ...       ...  \n",
       "254 -1.918089  0.030406  \n",
       "255 -2.012606  0.258673  \n",
       "256 -2.012606  0.030406  \n",
       "257 -2.012606 -0.083727  \n",
       "258 -2.201642 -0.197861  \n",
       "\n",
       "[259 rows x 9 columns]"
      ]
     },
     "execution_count": 36,
     "metadata": {},
     "output_type": "execute_result"
    }
   ],
   "source": [
    "pd.DataFrame(data_scaled)"
   ]
  },
  {
   "cell_type": "code",
   "execution_count": 37,
   "metadata": {},
   "outputs": [],
   "source": [
    "x = data_scaled[:,1:]\n",
    "y = data_scaled[:,0]\n",
    "\n",
    "#x = train.iloc[:,1:].values\n",
    "#y = train.iloc[:,0].values"
   ]
  },
  {
   "cell_type": "code",
   "execution_count": 38,
   "metadata": {},
   "outputs": [],
   "source": [
    "x_train,x_test,y_train,y_test = train_test_split(x,y,test_size=0.2,random_state=123,shuffle=False)"
   ]
  },
  {
   "cell_type": "code",
   "execution_count": 39,
   "metadata": {},
   "outputs": [],
   "source": [
    "window_length = 10\n",
    "num_features = 8\n",
    "batch_size = 32"
   ]
  },
  {
   "cell_type": "code",
   "execution_count": 40,
   "metadata": {},
   "outputs": [],
   "source": [
    "train_generator = TimeseriesGenerator(x_train,y_train,length=window_length,sampling_rate=1,batch_size=batch_size)\n",
    "test_generator = TimeseriesGenerator(x_test,y_test,length=window_length,sampling_rate=1,batch_size=batch_size)"
   ]
  },
  {
   "cell_type": "code",
   "execution_count": 41,
   "metadata": {},
   "outputs": [],
   "source": [
    "model = tf.keras.Sequential()\n",
    "model.add(tf.keras.layers.LSTM(128,input_shape = (window_length,num_features),return_sequences=True))\n",
    "model.add(tf.keras.layers.LeakyReLU(alpha=0.5))\n",
    "model.add(tf.keras.layers.LSTM(128, return_sequences=True))\n",
    "model.add(tf.keras.layers.LeakyReLU(alpha=0.5))\n",
    "model.add(tf.keras.layers.Dropout(0.3))\n",
    "model.add(tf.keras.layers.LSTM(64,return_sequences=False))\n",
    "model.add(tf.keras.layers.Dropout(0.3))\n",
    "model.add(tf.keras.layers.Dense(1))"
   ]
  },
  {
   "cell_type": "code",
   "execution_count": 42,
   "metadata": {},
   "outputs": [
    {
     "name": "stdout",
     "output_type": "stream",
     "text": [
      "Model: \"sequential\"\n",
      "_________________________________________________________________\n",
      " Layer (type)                Output Shape              Param #   \n",
      "=================================================================\n",
      " lstm (LSTM)                 (None, 10, 128)           70144     \n",
      "                                                                 \n",
      " leaky_re_lu (LeakyReLU)     (None, 10, 128)           0         \n",
      "                                                                 \n",
      " lstm_1 (LSTM)               (None, 10, 128)           131584    \n",
      "                                                                 \n",
      " leaky_re_lu_1 (LeakyReLU)   (None, 10, 128)           0         \n",
      "                                                                 \n",
      " dropout (Dropout)           (None, 10, 128)           0         \n",
      "                                                                 \n",
      " lstm_2 (LSTM)               (None, 64)                49408     \n",
      "                                                                 \n",
      " dropout_1 (Dropout)         (None, 64)                0         \n",
      "                                                                 \n",
      " dense (Dense)               (None, 1)                 65        \n",
      "                                                                 \n",
      "=================================================================\n",
      "Total params: 251,201\n",
      "Trainable params: 251,201\n",
      "Non-trainable params: 0\n",
      "_________________________________________________________________\n"
     ]
    }
   ],
   "source": [
    "model.summary()"
   ]
  },
  {
   "cell_type": "code",
   "execution_count": 43,
   "metadata": {},
   "outputs": [
    {
     "name": "stdout",
     "output_type": "stream",
     "text": [
      "Epoch 1/50\n"
     ]
    },
    {
     "name": "stderr",
     "output_type": "stream",
     "text": [
      "<ipython-input-43-60cc45f3e0af>:6: UserWarning: `Model.fit_generator` is deprecated and will be removed in a future version. Please use `Model.fit`, which supports generators.\n",
      "  history = model.fit_generator(train_generator,epochs=50,validation_data=test_generator,shuffle=False,callbacks=[early_stopping])\n"
     ]
    },
    {
     "name": "stdout",
     "output_type": "stream",
     "text": [
      "7/7 [==============================] - 5s 218ms/step - loss: 0.5210 - mean_absolute_error: 0.5949 - val_loss: 0.5537 - val_mean_absolute_error: 0.7421\n",
      "Epoch 2/50\n",
      "7/7 [==============================] - 0s 20ms/step - loss: 0.0680 - mean_absolute_error: 0.2006 - val_loss: 0.1456 - val_mean_absolute_error: 0.3726\n",
      "Epoch 3/50\n",
      "7/7 [==============================] - 0s 20ms/step - loss: 0.0243 - mean_absolute_error: 0.1192 - val_loss: 0.4769 - val_mean_absolute_error: 0.6884\n",
      "Epoch 4/50\n",
      "7/7 [==============================] - 0s 18ms/step - loss: 0.0222 - mean_absolute_error: 0.1143 - val_loss: 0.2309 - val_mean_absolute_error: 0.4771\n"
     ]
    }
   ],
   "source": [
    "early_stopping = tf.keras.callbacks.EarlyStopping(monitor='val_loss',patience=2,mode='min')\n",
    "model.compile(loss=tf.losses.MeanSquaredError(),\n",
    "              optimizer=tf.optimizers.Adam(),\n",
    "              metrics=[tf.metrics.MeanAbsoluteError()]\n",
    "              )\n",
    "history = model.fit_generator(train_generator,epochs=50,validation_data=test_generator,shuffle=False,callbacks=[early_stopping])"
   ]
  },
  {
   "cell_type": "code",
   "execution_count": 44,
   "metadata": {},
   "outputs": [
    {
     "name": "stderr",
     "output_type": "stream",
     "text": [
      "<ipython-input-44-b08afc977308>:1: UserWarning: `Model.evaluate_generator` is deprecated and will be removed in a future version. Please use `Model.evaluate`, which supports generators.\n",
      "  model.evaluate_generator(test_generator,verbose=0)\n"
     ]
    },
    {
     "data": {
      "text/plain": [
       "[0.230934277176857, 0.4770541787147522]"
      ]
     },
     "execution_count": 44,
     "metadata": {},
     "output_type": "execute_result"
    }
   ],
   "source": [
    "model.evaluate_generator(test_generator,verbose=0)"
   ]
  },
  {
   "cell_type": "code",
   "execution_count": 45,
   "metadata": {},
   "outputs": [
    {
     "name": "stderr",
     "output_type": "stream",
     "text": [
      "<ipython-input-45-9068eb02ed61>:1: UserWarning: `Model.predict_generator` is deprecated and will be removed in a future version. Please use `Model.predict`, which supports generators.\n",
      "  predictions = model.predict_generator(test_generator)\n"
     ]
    }
   ],
   "source": [
    "predictions = model.predict_generator(test_generator)"
   ]
  },
  {
   "cell_type": "code",
   "execution_count": 46,
   "metadata": {},
   "outputs": [
    {
     "data": {
      "text/plain": [
       "(42, 1)"
      ]
     },
     "execution_count": 46,
     "metadata": {},
     "output_type": "execute_result"
    }
   ],
   "source": [
    "predictions.shape"
   ]
  },
  {
   "cell_type": "code",
   "execution_count": 47,
   "metadata": {},
   "outputs": [],
   "source": [
    "df_predictions = pd.concat([pd.DataFrame(predictions),pd.DataFrame(x_test[:,0:][window_length:])],axis=1)"
   ]
  },
  {
   "cell_type": "code",
   "execution_count": 48,
   "metadata": {},
   "outputs": [],
   "source": [
    "rev_transform = scaler.inverse_transform(df_predictions)"
   ]
  },
  {
   "cell_type": "code",
   "execution_count": 49,
   "metadata": {},
   "outputs": [],
   "source": [
    "df_final = train[predictions.shape[0]*-1:]"
   ]
  },
  {
   "cell_type": "code",
   "execution_count": 50,
   "metadata": {},
   "outputs": [
    {
     "name": "stderr",
     "output_type": "stream",
     "text": [
      "<ipython-input-50-4fca173fe6cd>:1: SettingWithCopyWarning: \n",
      "A value is trying to be set on a copy of a slice from a DataFrame.\n",
      "Try using .loc[row_indexer,col_indexer] = value instead\n",
      "\n",
      "See the caveats in the documentation: https://pandas.pydata.org/pandas-docs/stable/user_guide/indexing.html#returning-a-view-versus-a-copy\n",
      "  df_final['prediction'] = rev_transform[:,0]\n"
     ]
    }
   ],
   "source": [
    "df_final['prediction'] = rev_transform[:,0]"
   ]
  },
  {
   "cell_type": "code",
   "execution_count": 51,
   "metadata": {},
   "outputs": [
    {
     "data": {
      "text/html": [
       "<div>\n",
       "<style scoped>\n",
       "    .dataframe tbody tr th:only-of-type {\n",
       "        vertical-align: middle;\n",
       "    }\n",
       "\n",
       "    .dataframe tbody tr th {\n",
       "        vertical-align: top;\n",
       "    }\n",
       "\n",
       "    .dataframe thead th {\n",
       "        text-align: right;\n",
       "    }\n",
       "</style>\n",
       "<table border=\"1\" class=\"dataframe\">\n",
       "  <thead>\n",
       "    <tr style=\"text-align: right;\">\n",
       "      <th></th>\n",
       "      <th>overall</th>\n",
       "      <th>housing</th>\n",
       "      <th>apparel</th>\n",
       "      <th>transportation</th>\n",
       "      <th>medical</th>\n",
       "      <th>food</th>\n",
       "      <th>other_goods</th>\n",
       "      <th>education</th>\n",
       "      <th>recreation</th>\n",
       "      <th>prediction</th>\n",
       "    </tr>\n",
       "  </thead>\n",
       "  <tbody>\n",
       "    <tr>\n",
       "      <th>217</th>\n",
       "      <td>232.166000</td>\n",
       "      <td>225.382</td>\n",
       "      <td>126.303</td>\n",
       "      <td>2.4</td>\n",
       "      <td>3.1</td>\n",
       "      <td>236.301</td>\n",
       "      <td>398.291</td>\n",
       "      <td>4.1</td>\n",
       "      <td>0.9</td>\n",
       "      <td>217.472109</td>\n",
       "    </tr>\n",
       "    <tr>\n",
       "      <th>218</th>\n",
       "      <td>232.772995</td>\n",
       "      <td>225.643</td>\n",
       "      <td>128.279</td>\n",
       "      <td>0.1</td>\n",
       "      <td>3.1</td>\n",
       "      <td>236.332</td>\n",
       "      <td>399.265</td>\n",
       "      <td>4.1</td>\n",
       "      <td>0.6</td>\n",
       "      <td>217.900784</td>\n",
       "    </tr>\n",
       "    <tr>\n",
       "      <th>219</th>\n",
       "      <td>232.531006</td>\n",
       "      <td>225.986</td>\n",
       "      <td>128.861</td>\n",
       "      <td>-2.0</td>\n",
       "      <td>2.7</td>\n",
       "      <td>236.841</td>\n",
       "      <td>400.239</td>\n",
       "      <td>4.1</td>\n",
       "      <td>0.6</td>\n",
       "      <td>218.261375</td>\n",
       "    </tr>\n",
       "    <tr>\n",
       "      <th>220</th>\n",
       "      <td>232.945007</td>\n",
       "      <td>226.896</td>\n",
       "      <td>127.952</td>\n",
       "      <td>-0.6</td>\n",
       "      <td>2.2</td>\n",
       "      <td>236.526</td>\n",
       "      <td>399.966</td>\n",
       "      <td>4.0</td>\n",
       "      <td>0.8</td>\n",
       "      <td>218.422833</td>\n",
       "    </tr>\n",
       "    <tr>\n",
       "      <th>221</th>\n",
       "      <td>233.503998</td>\n",
       "      <td>228.068</td>\n",
       "      <td>126.205</td>\n",
       "      <td>1.7</td>\n",
       "      <td>2.1</td>\n",
       "      <td>236.792</td>\n",
       "      <td>400.347</td>\n",
       "      <td>4.0</td>\n",
       "      <td>0.3</td>\n",
       "      <td>218.137771</td>\n",
       "    </tr>\n",
       "  </tbody>\n",
       "</table>\n",
       "</div>"
      ],
      "text/plain": [
       "        overall  housing  apparel  transportation  medical     food  \\\n",
       "217  232.166000  225.382  126.303             2.4      3.1  236.301   \n",
       "218  232.772995  225.643  128.279             0.1      3.1  236.332   \n",
       "219  232.531006  225.986  128.861            -2.0      2.7  236.841   \n",
       "220  232.945007  226.896  127.952            -0.6      2.2  236.526   \n",
       "221  233.503998  228.068  126.205             1.7      2.1  236.792   \n",
       "\n",
       "     other_goods  education  recreation  prediction  \n",
       "217      398.291        4.1         0.9  217.472109  \n",
       "218      399.265        4.1         0.6  217.900784  \n",
       "219      400.239        4.1         0.6  218.261375  \n",
       "220      399.966        4.0         0.8  218.422833  \n",
       "221      400.347        4.0         0.3  218.137771  "
      ]
     },
     "execution_count": 51,
     "metadata": {},
     "output_type": "execute_result"
    }
   ],
   "source": [
    "df_final.head()"
   ]
  },
  {
   "cell_type": "code",
   "execution_count": 52,
   "metadata": {},
   "outputs": [
    {
     "data": {
      "text/plain": [
       "183.79086440541474"
      ]
     },
     "execution_count": 52,
     "metadata": {},
     "output_type": "execute_result"
    }
   ],
   "source": [
    "mean_squared_error(df_final['prediction'].values,df_final['overall'].values)"
   ]
  },
  {
   "cell_type": "code",
   "execution_count": 72,
   "metadata": {},
   "outputs": [
    {
     "data": {
      "image/png": "[encoded data removed]",
      "text/plain": [
       "<Figure size 1080x288 with 1 Axes>"
      ]
     },
     "metadata": {},
     "output_type": "display_data"
    },
    {
     "name": "stdout",
     "output_type": "stream",
     "text": [
      "13.556948934233496 183.79086440541474 13.458152512477636 0.056956805551506964\n"
     ]
    }
   ],
   "source": [
    "df_final[['overall','prediction']].plot()\n",
    "sns.set(rc={'figure.figsize': (15, 4)})\n",
    "plt.xlabel(\"LSTM Overall vs prediction\")\n",
    "\n",
    "y_test = df_final['overall'].values\n",
    "y_pred = df_final['prediction'].values\n",
    "\n",
    "rmse = mean_squared_error(y_test, y_pred,squared=False)\n",
    "mse = mean_squared_error(y_test,y_pred)\n",
    "mae = mean_absolute_error(y_test, y_pred)\n",
    "mape = mean_absolute_percentage_error(y_test,y_pred)\n",
    "\n",
    "plt.plot(list(range(len(y_pred))),y_pred)\n",
    "plt.plot(list(range(len(y_test))),y_test)\n",
    "plt.show()\n",
    "\n",
    "print(rmse,mse,mae,mape)"
   ]
  },
  {
   "cell_type": "code",
   "execution_count": null,
   "metadata": {},
   "outputs": [],
   "source": []
  }
 ],
 "metadata": {
  "interpreter": {
   "hash": "d5a7c50cb37b9a8d16f83dcb11bfb78ad3a845830708c855df0980efa1084b32"
  },
  "kernelspec": {
   "display_name": "Python 3.8.8 64-bit ('base': conda)",
   "language": "python",
   "name": "python3"
  },
  "language_info": {
   "codemirror_mode": {
    "name": "ipython",
    "version": 3
   },
   "file_extension": ".py",
   "mimetype": "text/x-python",
   "name": "python",
   "nbconvert_exporter": "python",
   "pygments_lexer": "ipython3",
   "version": "3.8.8"
  },
  "orig_nbformat": 4
 },
 "nbformat": 4,
 "nbformat_minor": 2
}
